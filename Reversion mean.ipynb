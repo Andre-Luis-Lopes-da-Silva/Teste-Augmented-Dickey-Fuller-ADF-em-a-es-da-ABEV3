{
 "cells": [
  {
   "cell_type": "markdown",
   "id": "49741673",
   "metadata": {},
   "source": [
    "## Teste Augmented Dickey-Fuller (ADF) em ações da ABEV3"
   ]
  },
  {
   "cell_type": "code",
   "execution_count": 38,
   "id": "f9b6f135",
   "metadata": {},
   "outputs": [],
   "source": [
    "import pandas as pd"
   ]
  },
  {
   "cell_type": "code",
   "execution_count": 39,
   "id": "305c9bbd",
   "metadata": {},
   "outputs": [],
   "source": [
    "import warnings\n",
    "warnings.filterwarnings('ignore')"
   ]
  },
  {
   "cell_type": "code",
   "execution_count": 40,
   "id": "20c7c2be",
   "metadata": {},
   "outputs": [],
   "source": [
    "file = '/home/andre/Desktop/A_CANAL_MAGO_DAS_FINANCAS/ROBOT MEAN_REVERSION/ABEV3_H4_202301020800_202504291600.csv'"
   ]
  },
  {
   "cell_type": "code",
   "execution_count": 41,
   "id": "eebb0d08",
   "metadata": {},
   "outputs": [
    {
     "name": "stdout",
     "output_type": "stream",
     "text": [
      "{'encoding': 'ascii', 'confidence': 1.0, 'language': ''}\n"
     ]
    }
   ],
   "source": [
    "import chardet\n",
    "\n",
    "# Detecta a codificação\n",
    "with open(file, 'rb') as f:\n",
    "    result = chardet.detect(f.read(10000))\n",
    "    print(result)\n",
    "\n",
    "# Lê com a codificação detectada\n",
    "df = pd.read_csv(file, encoding=result['encoding'])\n"
   ]
  },
  {
   "cell_type": "code",
   "execution_count": 42,
   "id": "3eafdd7f",
   "metadata": {},
   "outputs": [
    {
     "data": {
      "text/html": [
       "<div>\n",
       "<style scoped>\n",
       "    .dataframe tbody tr th:only-of-type {\n",
       "        vertical-align: middle;\n",
       "    }\n",
       "\n",
       "    .dataframe tbody tr th {\n",
       "        vertical-align: top;\n",
       "    }\n",
       "\n",
       "    .dataframe thead th {\n",
       "        text-align: right;\n",
       "    }\n",
       "</style>\n",
       "<table border=\"1\" class=\"dataframe\">\n",
       "  <thead>\n",
       "    <tr style=\"text-align: right;\">\n",
       "      <th></th>\n",
       "      <th>&lt;DATE&gt;</th>\n",
       "      <th>&lt;TIME&gt;</th>\n",
       "      <th>&lt;OPEN&gt;</th>\n",
       "      <th>&lt;HIGH&gt;</th>\n",
       "      <th>&lt;LOW&gt;</th>\n",
       "      <th>&lt;CLOSE&gt;</th>\n",
       "      <th>&lt;TICKVOL&gt;</th>\n",
       "      <th>&lt;VOL&gt;</th>\n",
       "      <th>&lt;SPREAD&gt;</th>\n",
       "    </tr>\n",
       "  </thead>\n",
       "  <tbody>\n",
       "    <tr>\n",
       "      <th>0</th>\n",
       "      <td>2023.01.02</td>\n",
       "      <td>08:00:00</td>\n",
       "      <td>12.74</td>\n",
       "      <td>12.79</td>\n",
       "      <td>12.52</td>\n",
       "      <td>12.58</td>\n",
       "      <td>8160</td>\n",
       "      <td>4590200</td>\n",
       "      <td>1</td>\n",
       "    </tr>\n",
       "    <tr>\n",
       "      <th>1</th>\n",
       "      <td>2023.01.02</td>\n",
       "      <td>12:00:00</td>\n",
       "      <td>12.57</td>\n",
       "      <td>12.61</td>\n",
       "      <td>12.40</td>\n",
       "      <td>12.50</td>\n",
       "      <td>15462</td>\n",
       "      <td>5311100</td>\n",
       "      <td>1</td>\n",
       "    </tr>\n",
       "    <tr>\n",
       "      <th>2</th>\n",
       "      <td>2023.01.02</td>\n",
       "      <td>16:00:00</td>\n",
       "      <td>12.48</td>\n",
       "      <td>12.56</td>\n",
       "      <td>12.45</td>\n",
       "      <td>12.56</td>\n",
       "      <td>12804</td>\n",
       "      <td>5094600</td>\n",
       "      <td>1</td>\n",
       "    </tr>\n",
       "    <tr>\n",
       "      <th>3</th>\n",
       "      <td>2023.01.03</td>\n",
       "      <td>08:00:00</td>\n",
       "      <td>12.53</td>\n",
       "      <td>12.72</td>\n",
       "      <td>12.48</td>\n",
       "      <td>12.69</td>\n",
       "      <td>11566</td>\n",
       "      <td>6507700</td>\n",
       "      <td>1</td>\n",
       "    </tr>\n",
       "    <tr>\n",
       "      <th>4</th>\n",
       "      <td>2023.01.03</td>\n",
       "      <td>12:00:00</td>\n",
       "      <td>12.70</td>\n",
       "      <td>12.73</td>\n",
       "      <td>12.57</td>\n",
       "      <td>12.68</td>\n",
       "      <td>20452</td>\n",
       "      <td>15083600</td>\n",
       "      <td>1</td>\n",
       "    </tr>\n",
       "  </tbody>\n",
       "</table>\n",
       "</div>"
      ],
      "text/plain": [
       "       <DATE>    <TIME>  <OPEN>  <HIGH>  <LOW>  <CLOSE>  <TICKVOL>     <VOL>  \\\n",
       "0  2023.01.02  08:00:00   12.74   12.79  12.52    12.58       8160   4590200   \n",
       "1  2023.01.02  12:00:00   12.57   12.61  12.40    12.50      15462   5311100   \n",
       "2  2023.01.02  16:00:00   12.48   12.56  12.45    12.56      12804   5094600   \n",
       "3  2023.01.03  08:00:00   12.53   12.72  12.48    12.69      11566   6507700   \n",
       "4  2023.01.03  12:00:00   12.70   12.73  12.57    12.68      20452  15083600   \n",
       "\n",
       "   <SPREAD>  \n",
       "0         1  \n",
       "1         1  \n",
       "2         1  \n",
       "3         1  \n",
       "4         1  "
      ]
     },
     "execution_count": 42,
     "metadata": {},
     "output_type": "execute_result"
    }
   ],
   "source": [
    "df = pd.read_csv(file, encoding='ascii', sep=None, engine='python')\n",
    "df.head()\n"
   ]
  },
  {
   "cell_type": "markdown",
   "id": "6202b574",
   "metadata": {},
   "source": [
    "### Sem transformação dos dados"
   ]
  },
  {
   "cell_type": "code",
   "execution_count": 43,
   "id": "84b3e0ee",
   "metadata": {},
   "outputs": [],
   "source": [
    "class SistemaTradingRealista:\n",
    "    def __init__(self):\n",
    "        self.alpha = 0.05  # Nível de significância\n",
    "    \n",
    "    def testar_random_walk(self, dados):\n",
    "        from statsmodels.tsa.stattools import adfuller\n",
    "        \n",
    "        # Teste de estacionariedade\n",
    "        resultado_adf = adfuller(dados)\n",
    "        p_value = resultado_adf[1]\n",
    "        \n",
    "        if p_value < self.alpha:\n",
    "            print(\"Rejeita Random Walk - Há padrões exploráveis\")\n",
    "            return False\n",
    "        else:\n",
    "            print(\"Não rejeita Random Walk - Mercado eficiente\")\n",
    "            return True"
   ]
  },
  {
   "cell_type": "markdown",
   "id": "776f7018",
   "metadata": {},
   "source": [
    "**Resultado esperado**\n",
    "\n",
    "Se p_value < 0.05 → o teste rejeita a hipótese de random walk, ou seja, a série é estacionária (tem padrões).\n",
    "\n",
    "Se p_value >= 0.05 → não rejeita → parece random walk (difícil explorar)."
   ]
  },
  {
   "cell_type": "code",
   "execution_count": 56,
   "id": "0e98ed36",
   "metadata": {},
   "outputs": [
    {
     "data": {
      "text/html": [
       "<div>\n",
       "<style scoped>\n",
       "    .dataframe tbody tr th:only-of-type {\n",
       "        vertical-align: middle;\n",
       "    }\n",
       "\n",
       "    .dataframe tbody tr th {\n",
       "        vertical-align: top;\n",
       "    }\n",
       "\n",
       "    .dataframe thead th {\n",
       "        text-align: right;\n",
       "    }\n",
       "</style>\n",
       "<table border=\"1\" class=\"dataframe\">\n",
       "  <thead>\n",
       "    <tr style=\"text-align: right;\">\n",
       "      <th></th>\n",
       "      <th>&lt;DATE&gt;</th>\n",
       "      <th>&lt;TIME&gt;</th>\n",
       "      <th>&lt;OPEN&gt;</th>\n",
       "      <th>&lt;HIGH&gt;</th>\n",
       "      <th>&lt;LOW&gt;</th>\n",
       "      <th>&lt;CLOSE&gt;</th>\n",
       "      <th>&lt;TICKVOL&gt;</th>\n",
       "      <th>&lt;VOL&gt;</th>\n",
       "      <th>&lt;SPREAD&gt;</th>\n",
       "    </tr>\n",
       "  </thead>\n",
       "  <tbody>\n",
       "    <tr>\n",
       "      <th>1812</th>\n",
       "      <td>2025-06-06</td>\n",
       "      <td>08:00:00</td>\n",
       "      <td>13.83</td>\n",
       "      <td>13.85</td>\n",
       "      <td>13.68</td>\n",
       "      <td>13.78</td>\n",
       "      <td>7287</td>\n",
       "      <td>5926900</td>\n",
       "      <td>1</td>\n",
       "    </tr>\n",
       "    <tr>\n",
       "      <th>1813</th>\n",
       "      <td>2025-06-06</td>\n",
       "      <td>12:00:00</td>\n",
       "      <td>13.78</td>\n",
       "      <td>13.93</td>\n",
       "      <td>13.77</td>\n",
       "      <td>13.89</td>\n",
       "      <td>12005</td>\n",
       "      <td>10262000</td>\n",
       "      <td>1</td>\n",
       "    </tr>\n",
       "    <tr>\n",
       "      <th>1814</th>\n",
       "      <td>2025-06-06</td>\n",
       "      <td>16:00:00</td>\n",
       "      <td>13.89</td>\n",
       "      <td>13.96</td>\n",
       "      <td>13.85</td>\n",
       "      <td>13.94</td>\n",
       "      <td>5606</td>\n",
       "      <td>10555900</td>\n",
       "      <td>1</td>\n",
       "    </tr>\n",
       "    <tr>\n",
       "      <th>1815</th>\n",
       "      <td>2025-06-09</td>\n",
       "      <td>08:00:00</td>\n",
       "      <td>13.85</td>\n",
       "      <td>13.92</td>\n",
       "      <td>13.67</td>\n",
       "      <td>13.73</td>\n",
       "      <td>7214</td>\n",
       "      <td>4692100</td>\n",
       "      <td>1</td>\n",
       "    </tr>\n",
       "    <tr>\n",
       "      <th>1816</th>\n",
       "      <td>2025-06-09</td>\n",
       "      <td>12:00:00</td>\n",
       "      <td>13.74</td>\n",
       "      <td>13.85</td>\n",
       "      <td>13.72</td>\n",
       "      <td>13.82</td>\n",
       "      <td>10105</td>\n",
       "      <td>7218400</td>\n",
       "      <td>1</td>\n",
       "    </tr>\n",
       "    <tr>\n",
       "      <th>...</th>\n",
       "      <td>...</td>\n",
       "      <td>...</td>\n",
       "      <td>...</td>\n",
       "      <td>...</td>\n",
       "      <td>...</td>\n",
       "      <td>...</td>\n",
       "      <td>...</td>\n",
       "      <td>...</td>\n",
       "      <td>...</td>\n",
       "    </tr>\n",
       "    <tr>\n",
       "      <th>2014</th>\n",
       "      <td>2025-09-10</td>\n",
       "      <td>12:00:00</td>\n",
       "      <td>12.47</td>\n",
       "      <td>12.48</td>\n",
       "      <td>12.43</td>\n",
       "      <td>12.47</td>\n",
       "      <td>8398</td>\n",
       "      <td>12556700</td>\n",
       "      <td>1</td>\n",
       "    </tr>\n",
       "    <tr>\n",
       "      <th>2015</th>\n",
       "      <td>2025-09-10</td>\n",
       "      <td>16:00:00</td>\n",
       "      <td>12.47</td>\n",
       "      <td>12.47</td>\n",
       "      <td>12.36</td>\n",
       "      <td>12.36</td>\n",
       "      <td>3226</td>\n",
       "      <td>19817600</td>\n",
       "      <td>1</td>\n",
       "    </tr>\n",
       "    <tr>\n",
       "      <th>2016</th>\n",
       "      <td>2025-09-11</td>\n",
       "      <td>08:00:00</td>\n",
       "      <td>12.48</td>\n",
       "      <td>12.54</td>\n",
       "      <td>12.41</td>\n",
       "      <td>12.53</td>\n",
       "      <td>6929</td>\n",
       "      <td>5617300</td>\n",
       "      <td>1</td>\n",
       "    </tr>\n",
       "    <tr>\n",
       "      <th>2017</th>\n",
       "      <td>2025-09-11</td>\n",
       "      <td>12:00:00</td>\n",
       "      <td>12.52</td>\n",
       "      <td>12.57</td>\n",
       "      <td>12.47</td>\n",
       "      <td>12.52</td>\n",
       "      <td>12094</td>\n",
       "      <td>12194100</td>\n",
       "      <td>1</td>\n",
       "    </tr>\n",
       "    <tr>\n",
       "      <th>2018</th>\n",
       "      <td>2025-09-11</td>\n",
       "      <td>16:00:00</td>\n",
       "      <td>12.53</td>\n",
       "      <td>12.57</td>\n",
       "      <td>12.52</td>\n",
       "      <td>12.52</td>\n",
       "      <td>3342</td>\n",
       "      <td>10497800</td>\n",
       "      <td>1</td>\n",
       "    </tr>\n",
       "  </tbody>\n",
       "</table>\n",
       "<p>207 rows × 9 columns</p>\n",
       "</div>"
      ],
      "text/plain": [
       "         <DATE>    <TIME>  <OPEN>  <HIGH>  <LOW>  <CLOSE>  <TICKVOL>  \\\n",
       "1812 2025-06-06  08:00:00   13.83   13.85  13.68    13.78       7287   \n",
       "1813 2025-06-06  12:00:00   13.78   13.93  13.77    13.89      12005   \n",
       "1814 2025-06-06  16:00:00   13.89   13.96  13.85    13.94       5606   \n",
       "1815 2025-06-09  08:00:00   13.85   13.92  13.67    13.73       7214   \n",
       "1816 2025-06-09  12:00:00   13.74   13.85  13.72    13.82      10105   \n",
       "...         ...       ...     ...     ...    ...      ...        ...   \n",
       "2014 2025-09-10  12:00:00   12.47   12.48  12.43    12.47       8398   \n",
       "2015 2025-09-10  16:00:00   12.47   12.47  12.36    12.36       3226   \n",
       "2016 2025-09-11  08:00:00   12.48   12.54  12.41    12.53       6929   \n",
       "2017 2025-09-11  12:00:00   12.52   12.57  12.47    12.52      12094   \n",
       "2018 2025-09-11  16:00:00   12.53   12.57  12.52    12.52       3342   \n",
       "\n",
       "         <VOL>  <SPREAD>  \n",
       "1812   5926900         1  \n",
       "1813  10262000         1  \n",
       "1814  10555900         1  \n",
       "1815   4692100         1  \n",
       "1816   7218400         1  \n",
       "...        ...       ...  \n",
       "2014  12556700         1  \n",
       "2015  19817600         1  \n",
       "2016   5617300         1  \n",
       "2017  12194100         1  \n",
       "2018  10497800         1  \n",
       "\n",
       "[207 rows x 9 columns]"
      ]
     },
     "execution_count": 56,
     "metadata": {},
     "output_type": "execute_result"
    }
   ],
   "source": [
    "# converter a coluna para datetime\n",
    "df['<DATE>'] = pd.to_datetime(df['<DATE>'], format=\"%Y.%m.%d\")\n",
    "\n",
    "# definir intervalo desejado\n",
    "data_inicial = pd.to_datetime(\"2025-06-06\")\n",
    "data_final   = pd.to_datetime(\"2025-09-11\")\n",
    "\n",
    "# filtrar\n",
    "df_filtrado = df[(df['<DATE>'] >= data_inicial) & (df['<DATE>'] <= data_final)]\n",
    "\n",
    "df_filtrado"
   ]
  },
  {
   "cell_type": "code",
   "execution_count": 57,
   "id": "ae2acfdb",
   "metadata": {},
   "outputs": [],
   "source": [
    "# Obtendo a série temporal pelo fechamento dos preços\n",
    "serie = df_filtrado['<CLOSE>'].values"
   ]
  },
  {
   "cell_type": "code",
   "execution_count": 58,
   "id": "37deacd5",
   "metadata": {},
   "outputs": [
    {
     "data": {
      "text/plain": [
       "array([13.78, 13.89, 13.94, 13.73, 13.82, 13.82, 13.8 , 13.72, 13.66,\n",
       "       13.63, 13.75, 13.77, 13.67, 13.64, 13.66, 13.5 , 13.55, 13.5 ,\n",
       "       13.56, 13.48, 13.54, 13.31, 13.3 , 13.33, 13.35, 13.35, 13.35,\n",
       "       13.29, 13.29, 13.39, 13.4 , 13.42, 13.42, 13.4 , 13.39, 13.37,\n",
       "       13.11, 13.04, 13.02, 13.16, 13.16, 13.18, 12.97, 13.02, 13.02,\n",
       "       12.98, 13.15, 13.18, 13.21, 13.23, 13.24, 13.37, 13.51, 13.51,\n",
       "       13.38, 13.36, 13.34, 13.39, 13.48, 13.38, 13.28, 13.24, 13.26,\n",
       "       13.26, 13.23, 13.24, 13.23, 13.22, 13.17, 13.09, 13.13, 13.1 ,\n",
       "       13.18, 13.19, 13.16, 13.25, 13.21, 13.15, 13.17, 13.17, 13.13,\n",
       "       13.36, 13.57, 13.54, 13.43, 13.35, 13.32, 13.26, 13.21, 13.18,\n",
       "       13.18, 13.3 , 13.28, 13.39, 13.3 , 13.26, 13.48, 13.5 , 13.45,\n",
       "       13.36, 13.39, 13.36, 13.37, 13.35, 13.33, 13.01, 13.02, 12.93,\n",
       "       13.04, 13.09, 13.06, 13.04, 13.04, 13.02, 12.2 , 12.38, 12.33,\n",
       "       12.17, 12.18, 12.16, 12.31, 12.32, 12.28, 12.27, 12.31, 12.23,\n",
       "       12.37, 12.36, 12.35, 12.39, 12.49, 12.41, 12.33, 12.35, 12.37,\n",
       "       12.31, 12.34, 12.31, 12.4 , 12.36, 12.23, 12.04, 12.14, 12.12,\n",
       "       12.06, 12.07, 12.02, 12.08, 11.98, 12.04, 12.16, 12.11, 12.07,\n",
       "       12.07, 12.03, 12.07, 12.11, 12.11, 12.1 , 12.06, 12.11, 12.06,\n",
       "       12.24, 12.27, 12.21, 12.2 , 12.13, 12.12, 12.17, 12.14, 12.18,\n",
       "       12.13, 12.12, 12.15, 12.3 , 12.3 , 12.25, 12.48, 12.38, 12.35,\n",
       "       12.28, 12.35, 12.3 , 12.22, 12.15, 12.16, 11.92, 11.77, 11.9 ,\n",
       "       12.1 , 12.15, 12.16, 12.25, 12.27, 12.25, 12.07, 12.16, 12.14,\n",
       "       12.32, 12.32, 12.33, 12.46, 12.47, 12.36, 12.53, 12.52, 12.52])"
      ]
     },
     "execution_count": 58,
     "metadata": {},
     "output_type": "execute_result"
    }
   ],
   "source": [
    "serie"
   ]
  },
  {
   "cell_type": "code",
   "execution_count": 59,
   "id": "91045394",
   "metadata": {},
   "outputs": [
    {
     "name": "stdout",
     "output_type": "stream",
     "text": [
      "Rejeita Random Walk - Série estacionária, há padrões exploráveis\n",
      "Resultado: (False, -15.543194229322577, 2.1462535830794805e-28, {'1%': -3.4626576734812318, '5%': -2.8757444215841326, '10%': -2.5743412314098753})\n"
     ]
    }
   ],
   "source": [
    "# instanciar o sistema\n",
    "sistema = SistemaTradingRealista()\n",
    "\n",
    "# aplicar o teste ADF nos dados filtrados\n",
    "resultado = sistema.testar_random_walk(serie)\n",
    "\n",
    "print(\"Resultado:\", resultado)"
   ]
  },
  {
   "cell_type": "code",
   "execution_count": 61,
   "id": "10cee338",
   "metadata": {},
   "outputs": [],
   "source": [
    "from statsmodels.tsa.stattools import adfuller\n",
    "resultado_adf1 = adfuller(serie)"
   ]
  },
  {
   "cell_type": "code",
   "execution_count": 62,
   "id": "ebe63d88",
   "metadata": {},
   "outputs": [
    {
     "data": {
      "text/plain": [
       "(-1.738305566901189,\n",
       " 0.4114921409433905,\n",
       " 0,\n",
       " 206,\n",
       " {'1%': -3.4624988216864776,\n",
       "  '5%': -2.8756749365852587,\n",
       "  '10%': -2.5743041549627677},\n",
       " -316.9843790311297)"
      ]
     },
     "execution_count": 62,
     "metadata": {},
     "output_type": "execute_result"
    }
   ],
   "source": [
    "resultado_adf1"
   ]
  },
  {
   "cell_type": "code",
   "execution_count": 63,
   "id": "bcf8afc9",
   "metadata": {},
   "outputs": [],
   "source": [
    "p_value1 = resultado_adf1[1]"
   ]
  },
  {
   "cell_type": "code",
   "execution_count": 64,
   "id": "10d05cc3",
   "metadata": {},
   "outputs": [
    {
     "data": {
      "text/plain": [
       "0.4114921409433905"
      ]
     },
     "execution_count": 64,
     "metadata": {},
     "output_type": "execute_result"
    }
   ],
   "source": [
    "p_value1"
   ]
  },
  {
   "cell_type": "markdown",
   "id": "8c2622ba",
   "metadata": {},
   "source": [
    "### Com transformação logarítmica dos dados"
   ]
  },
  {
   "cell_type": "code",
   "execution_count": 65,
   "id": "4f209ac4",
   "metadata": {},
   "outputs": [],
   "source": [
    "import numpy as np\n",
    "from statsmodels.tsa.stattools import adfuller\n",
    "\n",
    "class SistemaTradingRealista:\n",
    "    def __init__(self, alpha=0.05):\n",
    "        \"\"\"\n",
    "        alpha: nível de significância do teste (padrão 0.05)\n",
    "        \"\"\"\n",
    "        self.alpha = alpha\n",
    "\n",
    "    def testar_random_walk(self, precos, usar_retornos_log=True):\n",
    "        \"\"\"\n",
    "        precos: array-like ou série pandas de preços de fechamento\n",
    "        usar_retornos_log: se True, transforma preços em retornos logarítmicos antes do teste\n",
    "\n",
    "        Retorna:\n",
    "            resultado_bool: True se não rejeita H0 (random walk), False se rejeita (estacionária)\n",
    "            estatistica: estatística do teste ADF\n",
    "            p_value: p-valor do teste\n",
    "            criticos: dicionário com valores críticos (1%, 5%, 10%)\n",
    "        \"\"\"\n",
    "        # Converter para numpy array\n",
    "        precos = np.array(precos, dtype=float)\n",
    "\n",
    "        if usar_retornos_log:\n",
    "            # Calcular retornos logarítmicos\n",
    "            dados = np.diff(np.log(precos))\n",
    "        else:\n",
    "            # Diferenças simples\n",
    "            dados = np.diff(precos)\n",
    "\n",
    "        # Teste ADF\n",
    "        resultado_adf = adfuller(dados)\n",
    "        estatistica = resultado_adf[0]\n",
    "        p_value = resultado_adf[1]\n",
    "        criticos = resultado_adf[4]\n",
    "\n",
    "        # Determinar se rejeita H0\n",
    "        if p_value < self.alpha:\n",
    "            resultado_bool = False  # rejeita random walk → série estacionária\n",
    "            print(\"Rejeita Random Walk - Série estacionária, há padrões exploráveis\")\n",
    "        else:\n",
    "            resultado_bool = True   # não rejeita → parece random walk\n",
    "            print(\"Não rejeita Random Walk - Mercado eficiente (quase random walk)\")\n",
    "\n",
    "        # Retornar tudo\n",
    "        return resultado_bool, estatistica, p_value, criticos\n"
   ]
  },
  {
   "cell_type": "markdown",
   "id": "ffc39296",
   "metadata": {},
   "source": [
    "### Período com os melhores resultados"
   ]
  },
  {
   "cell_type": "code",
   "execution_count": 66,
   "id": "87002c97",
   "metadata": {},
   "outputs": [
    {
     "name": "stdout",
     "output_type": "stream",
     "text": [
      "Rejeita Random Walk - Série estacionária, há padrões exploráveis\n",
      "\n",
      "Resultado booleano: False\n",
      "Estatística ADF: -15.543194229322577\n",
      "p-value: 2.1462535830794805e-28\n",
      "Valores críticos: {'1%': -3.4626576734812318, '5%': -2.8757444215841326, '10%': -2.5743412314098753}\n"
     ]
    }
   ],
   "source": [
    "serie_precos = df_filtrado['<CLOSE>']\n",
    "\n",
    "sistema = SistemaTradingRealista()\n",
    "resultado_bool, estatistica, p_value, criticos = sistema.testar_random_walk(serie_precos)\n",
    "\n",
    "print(\"\\nResultado booleano:\", resultado_bool) # False = não é random walk, ou seja, série estacionária.\n",
    "print(\"Estatística ADF:\", estatistica) # Quanto mais negativa → \n",
    "# mais forte a evidência contra H₀ (mais forte a estacionariedade). \n",
    "print(\"p-value:\", p_value)\n",
    "print(\"Valores críticos:\", criticos)\n"
   ]
  },
  {
   "cell_type": "markdown",
   "id": "20fafa74",
   "metadata": {},
   "source": [
    "Nesse caso: -15.543 < -3.462 → rejeita H₀ até no nível de 1% (muito significativo)."
   ]
  },
  {
   "cell_type": "code",
   "execution_count": 67,
   "id": "03972ec5",
   "metadata": {},
   "outputs": [
    {
     "data": {
      "image/png": "[encoded data removed]",
      "text/plain": [
       "<Figure size 800x575 with 2 Axes>"
      ]
     },
     "metadata": {},
     "output_type": "display_data"
    }
   ],
   "source": [
    "import mplfinance as mpf\n",
    "\n",
    "# Converter coluna <TIME> em timedelta\n",
    "# assumindo formato HH:MM:SS ou HH:MM\n",
    "df_filtrado['<TIME>'] = pd.to_timedelta(df_filtrado['<TIME>'])\n",
    "\n",
    "# Criar coluna datetime combinando <DATE> (datetime) + <TIME> (timedelta)\n",
    "df_filtrado['datetime'] = df_filtrado['<DATE>'] + df_filtrado['<TIME>']\n",
    "\n",
    "# Definir datetime como índice\n",
    "df_filtrado.set_index('datetime', inplace=True)\n",
    "\n",
    "# Selecionar colunas necessárias\n",
    "df_candles = df_filtrado[['<OPEN>', '<HIGH>', '<LOW>', '<CLOSE>']]\n",
    "df_candles.columns = ['Open', 'High', 'Low', 'Close']\n",
    "\n",
    "# Plotar candles\n",
    "mpf.plot(df_candles,\n",
    "         type='candle',\n",
    "         style='charles',\n",
    "         volume=False,\n",
    "         title='Candlestick - df_filtrado',\n",
    "         ylabel='Preço')\n"
   ]
  },
  {
   "cell_type": "code",
   "execution_count": 68,
   "id": "6fac9e4f",
   "metadata": {},
   "outputs": [],
   "source": [
    "#!pip install mplfinance"
   ]
  },
  {
   "cell_type": "markdown",
   "id": "67fa63d8",
   "metadata": {},
   "source": [
    "### Período com os piores resultados"
   ]
  },
  {
   "cell_type": "code",
   "execution_count": 69,
   "id": "86911da9",
   "metadata": {},
   "outputs": [],
   "source": [
    "# Filtrando o período\n",
    "\n",
    "# definir intervalo desejado\n",
    "data_inicial = pd.to_datetime(\"2025-02-27\")\n",
    "data_final   = pd.to_datetime(\"2025-03-11\")\n",
    "\n",
    "# filtrar\n",
    "df_filtrado = df[(df['<DATE>'] >= data_inicial) & (df['<DATE>'] <= data_final)]"
   ]
  },
  {
   "cell_type": "code",
   "execution_count": 70,
   "id": "bcf4e7fb",
   "metadata": {},
   "outputs": [
    {
     "name": "stdout",
     "output_type": "stream",
     "text": [
      "Não rejeita Random Walk - Mercado eficiente (quase random walk)\n",
      "\n",
      "Resultado booleano: True\n",
      "Estatística ADF: 1.8023355005483077\n",
      "p-value: 0.9983536379097839\n",
      "Valores críticos: {'1%': -4.137829282407408, '5%': -3.1549724074074077, '10%': -2.7144769444444443}\n"
     ]
    }
   ],
   "source": [
    "serie_precos = df_filtrado['<CLOSE>']\n",
    "\n",
    "sistema = SistemaTradingRealista()\n",
    "resultado_bool, estatistica, p_value, criticos = sistema.testar_random_walk(serie_precos)\n",
    "\n",
    "print(\"\\nResultado booleano:\", resultado_bool) # False = não é random walk, ou seja, série estacionária.\n",
    "print(\"Estatística ADF:\", estatistica) # Quanto mais negativa → \n",
    "# mais forte a evidência contra H₀ (mais forte a estacionariedade). \n",
    "print(\"p-value:\", p_value)\n",
    "print(\"Valores críticos:\", criticos)"
   ]
  },
  {
   "cell_type": "code",
   "execution_count": 71,
   "id": "b467fa39",
   "metadata": {},
   "outputs": [
    {
     "data": {
      "image/png": "[encoded data removed]",
      "text/plain": [
       "<Figure size 800x575 with 2 Axes>"
      ]
     },
     "metadata": {},
     "output_type": "display_data"
    }
   ],
   "source": [
    "# Converter coluna <TIME> em timedelta\n",
    "# assumindo formato HH:MM:SS ou HH:MM\n",
    "df_filtrado['<TIME>'] = pd.to_timedelta(df_filtrado['<TIME>'])\n",
    "\n",
    "# Criar coluna datetime combinando <DATE> (datetime) + <TIME> (timedelta)\n",
    "df_filtrado['datetime'] = df_filtrado['<DATE>'] + df_filtrado['<TIME>']\n",
    "\n",
    "# Definir datetime como índice\n",
    "df_filtrado.set_index('datetime', inplace=True)\n",
    "\n",
    "# Selecionar colunas necessárias\n",
    "df_candles = df_filtrado[['<OPEN>', '<HIGH>', '<LOW>', '<CLOSE>']]\n",
    "df_candles.columns = ['Open', 'High', 'Low', 'Close']\n",
    "\n",
    "# Plotar candles\n",
    "mpf.plot(df_candles,\n",
    "         type='candle',\n",
    "         style='charles',\n",
    "         volume=False,\n",
    "         title='Candlestick - df_filtrado',\n",
    "         ylabel='Preço')"
   ]
  },
  {
   "cell_type": "code",
   "execution_count": null,
   "id": "b6c8539b",
   "metadata": {},
   "outputs": [],
   "source": []
  }
 ],
 "metadata": {
  "kernelspec": {
   "display_name": "Python 3 (ipykernel)",
   "language": "python",
   "name": "python3"
  },
  "language_info": {
   "codemirror_mode": {
    "name": "ipython",
    "version": 3
   },
   "file_extension": ".py",
   "mimetype": "text/x-python",
   "name": "python",
   "nbconvert_exporter": "python",
   "pygments_lexer": "ipython3",
   "version": "3.9.16"
  }
 },
 "nbformat": 4,
 "nbformat_minor": 5
}
